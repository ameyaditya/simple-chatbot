{
 "cells": [
  {
   "cell_type": "code",
   "execution_count": 1,
   "metadata": {},
   "outputs": [
    {
     "name": "stderr",
     "output_type": "stream",
     "text": [
      "[nltk_data] Downloading package stopwords to\n",
      "[nltk_data]     C:\\Users\\vaish\\AppData\\Roaming\\nltk_data...\n",
      "[nltk_data]   Package stopwords is already up-to-date!\n"
     ]
    }
   ],
   "source": [
    "import pandas as pd\n",
    "from nltk.corpus import stopwords\n",
    "import nltk\n",
    "nltk.download('stopwords')\n",
    "import numpy as np\n",
    "df=pd.read_excel(\"queries.xlsx\")"
   ]
  },
  {
   "cell_type": "code",
   "execution_count": 2,
   "metadata": {},
   "outputs": [
    {
     "name": "stdout",
     "output_type": "stream",
     "text": [
      "Admission Process\n"
     ]
    }
   ],
   "source": [
    "query_text=input()"
   ]
  },
  {
   "cell_type": "code",
   "execution_count": 3,
   "metadata": {
    "scrolled": true
   },
   "outputs": [],
   "source": [
    "query_text=query_text.lower()"
   ]
  },
  {
   "cell_type": "code",
   "execution_count": 8,
   "metadata": {},
   "outputs": [],
   "source": [
    "def partition(query_text):\n",
    "    temp=query_text\n",
    "    punct={\",\",\"?\",\".\",\"-\",\"!\"}\n",
    "\n",
    "    question_tags = {\"what\", \"why\", \"who\", \"how\", \"when\"}\n",
    "\n",
    "    stpwrds = set(stopwords.words('english'))\n",
    "\n",
    "    partitioned_text = set(temp.split())\n",
    "\n",
    "    partitioned_text = partitioned_text.difference(punct)\n",
    "\n",
    "    partitioned_text = partitioned_text.difference(question_tags)\n",
    "\n",
    "    partitioned_text = partitioned_text.difference(stpwrds)\n",
    "\n",
    "    custom_words = {\"RNSIT\", \"College\"}\n",
    "\n",
    "    partitioned_text = partitioned_text.difference(custom_words)\n",
    "    \n",
    "    tags = list(df['Tags'])\n",
    "\n",
    "    for i in range(len(tags)):\n",
    "        tags[i] = tags[i].split(\", \")\n",
    "    \n",
    "    score = []\n",
    "    for i in tags:\n",
    "        cnter = 0\n",
    "        for j in partitioned_text:\n",
    "            if j in i:\n",
    "                cnter +=1\n",
    "        score.append(cnter)\n",
    "\n",
    "    ans = np.argmax(score)\n",
    "\n",
    "    answers = list(df['Answer'])\n",
    "    print(answers[ans])"
   ]
  },
  {
   "cell_type": "code",
   "execution_count": 9,
   "metadata": {},
   "outputs": [
    {
     "name": "stdout",
     "output_type": "stream",
     "text": [
      "The complete details of the admission process can be found here. https://www.rnsit.ac.in/admissions.html\n"
     ]
    }
   ],
   "source": [
    "partition(query_text)"
   ]
  }
 ],
 "metadata": {
  "kernelspec": {
   "display_name": "Python 3",
   "language": "python",
   "name": "python3"
  },
  "language_info": {
   "codemirror_mode": {
    "name": "ipython",
    "version": 3
   },
   "file_extension": ".py",
   "mimetype": "text/x-python",
   "name": "python",
   "nbconvert_exporter": "python",
   "pygments_lexer": "ipython3",
   "version": "3.7.3"
  }
 },
 "nbformat": 4,
 "nbformat_minor": 2
}
